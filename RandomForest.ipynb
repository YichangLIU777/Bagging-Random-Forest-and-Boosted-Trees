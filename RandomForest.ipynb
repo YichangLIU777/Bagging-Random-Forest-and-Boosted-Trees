{
 "cells": [
  {
   "cell_type": "code",
   "execution_count": 2,
   "metadata": {},
   "outputs": [],
   "source": [
    "import pandas as pd \n",
    "import numpy as np \n",
    "from sklearn.model_selection import train_test_split \n",
    "from sklearn.preprocessing import StandardScaler \n",
    "from sklearn import metrics \n"
   ]
  },
  {
   "cell_type": "markdown",
   "metadata": {},
   "source": [
    "### Random Forest"
   ]
  },
  {
   "cell_type": "code",
   "execution_count": 3,
   "metadata": {},
   "outputs": [],
   "source": [
    "dataset = pd.read_csv('Boston.csv') "
   ]
  },
  {
   "cell_type": "code",
   "execution_count": 4,
   "metadata": {},
   "outputs": [],
   "source": [
    "y = dataset[\"medv\"]\n",
    "X = dataset.drop(labels = \"medv\", axis = 1)\n",
    "X_train, X_test, y_train, y_test = train_test_split(X, y, test_size=0.2, random_state=0)\n"
   ]
  },
  {
   "cell_type": "code",
   "execution_count": 5,
   "metadata": {},
   "outputs": [],
   "source": [
    "sc = StandardScaler() \n",
    "X_train = sc.fit_transform(X_train) \n",
    "X_test = sc.transform(X_test)"
   ]
  },
  {
   "cell_type": "code",
   "execution_count": 28,
   "metadata": {},
   "outputs": [],
   "source": [
    "from sklearn.ensemble import RandomForestRegressor\n",
    "MAE_list = []; MSE_list = []; RMSE_list = []\n",
    "### Mean Absolute Error, Mean Squared Error, Root Mean Squared Error\n",
    "for i in range(len(X.columns)):\n",
    "    regressor = RandomForestRegressor(n_estimators=i+1, random_state=0) \n",
    "    regressor.fit(X_train, y_train) \n",
    "    y_pred = regressor.predict(X_test)\n",
    "    MAE_list.append(metrics.mean_absolute_error(y_test, y_pred))\n",
    "    MSE_list.append(metrics.mean_squared_error(y_test, y_pred))\n",
    "    RMSE_list.append(np.sqrt(metrics.mean_squared_error(y_test, y_pred)))"
   ]
  },
  {
   "cell_type": "code",
   "execution_count": 29,
   "metadata": {},
   "outputs": [
    {
     "data": {
      "text/plain": [
       "Text(0.5, 1.0, 'Root Mean Squared Error')"
      ]
     },
     "execution_count": 29,
     "metadata": {},
     "output_type": "execute_result"
    },
    {
     "data": {
      "image/png": "[encoded data removed]",
      "text/plain": [
       "<Figure size 432x288 with 3 Axes>"
      ]
     },
     "metadata": {
      "needs_background": "light"
     },
     "output_type": "display_data"
    }
   ],
   "source": [
    "import matplotlib.pyplot as plt\n",
    "plt.subplot(1, 3, 1)\n",
    "plt.plot([i+1 for i in range(len(X.columns))], MAE_list)\n",
    "plt.title(\"Mean Absolute Error\")\n",
    "\n",
    "plt.subplot(1, 3, 2)\n",
    "plt.plot([i+1 for i in range(len(X.columns))], MSE_list)\n",
    "plt.title(\"Mean Squared Error\")\n",
    "\n",
    "plt.subplot(1, 3, 3)\n",
    "plt.plot([i+1 for i in range(len(X.columns))], RMSE_list)\n",
    "plt.title(\"Root Mean Squared Error\")"
   ]
  },
  {
   "cell_type": "code",
   "execution_count": 31,
   "metadata": {},
   "outputs": [
    {
     "name": "stdout",
     "output_type": "stream",
     "text": [
      "Mean Absolute Error: 2.692533936651584\n",
      "Mean Squared Error: 19.407573384383337\n",
      "Root Mean Squared Error: 4.405402749395717\n",
      "Accuracy score: 0.7616609920567147\n"
     ]
    }
   ],
   "source": [
    "regressor = RandomForestRegressor(n_estimators=13, random_state=0) \n",
    "regressor.fit(X_train, y_train) \n",
    "y_pred = regressor.predict(X_test)\n",
    "MAE_list.append(metrics.mean_absolute_error(y_test, y_pred))\n",
    "MSE_list.append(metrics.mean_squared_error(y_test, y_pred))\n",
    "RMSE_list.append(np.sqrt(metrics.mean_squared_error(y_test, y_pred)))\n",
    "print('Mean Absolute Error:', metrics.mean_absolute_error(y_test, y_pred)) \n",
    "print('Mean Squared Error:', metrics.mean_squared_error(y_test, y_pred)) \n",
    "print('Root Mean Squared Error:', np.sqrt(metrics.mean_squared_error(y_test, y_pred))) \n",
    "print('Accuracy score:', regressor.score(X_test, y_test))"
   ]
  },
  {
   "cell_type": "markdown",
   "metadata": {},
   "source": [
    "### Boosted Tree"
   ]
  },
  {
   "cell_type": "code",
   "execution_count": 32,
   "metadata": {},
   "outputs": [
    {
     "name": "stdout",
     "output_type": "stream",
     "text": [
      "Learning rate:  0.05\n",
      "Accuracy score (training): 1.000\n",
      "Accuracy score (validation): 0.758\n",
      "Mean Squared Error: 19.673416944892704\n",
      " \n",
      "Learning rate:  0.075\n",
      "Accuracy score (training): 1.000\n",
      "Accuracy score (validation): 0.765\n",
      "Mean Squared Error: 19.10482996239304\n",
      " \n",
      "Learning rate:  0.1\n",
      "Accuracy score (training): 1.000\n",
      "Accuracy score (validation): 0.742\n",
      "Mean Squared Error: 20.970634153345774\n",
      " \n",
      "Learning rate:  0.25\n",
      "Accuracy score (training): 1.000\n",
      "Accuracy score (validation): 0.789\n",
      "Mean Squared Error: 17.17604030217803\n",
      " \n",
      "Learning rate:  0.5\n",
      "Accuracy score (training): 1.000\n",
      "Accuracy score (validation): 0.732\n",
      "Mean Squared Error: 21.78625390938727\n",
      " \n",
      "Learning rate:  0.75\n",
      "Accuracy score (training): 1.000\n",
      "Accuracy score (validation): 0.711\n",
      "Mean Squared Error: 23.56329011173156\n",
      " \n",
      "Learning rate:  1\n",
      "Accuracy score (training): 1.000\n",
      "Accuracy score (validation): 0.594\n",
      "Mean Squared Error: 33.053608573104306\n",
      " \n"
     ]
    }
   ],
   "source": [
    "from sklearn.ensemble import GradientBoostingRegressor\n",
    "lr_list = [0.05, 0.075, 0.1, 0.25, 0.5, 0.75, 1]\n",
    "\n",
    "for learning_rate in lr_list:\n",
    "    gb_clf = GradientBoostingRegressor(n_estimators=5000, learning_rate=learning_rate, max_features=10, max_depth=4, random_state=0)\n",
    "    gb_clf.fit(X_train, y_train)\n",
    "    y_pred = gb_clf.predict(X_test)\n",
    "    print(\"Learning rate: \", learning_rate)\n",
    "    print(\"Accuracy score (training): {0:.3f}\".format(gb_clf.score(X_train, y_train)))\n",
    "    print(\"Accuracy score (validation): {0:.3f}\".format(gb_clf.score(X_test, y_test)))\n",
    "    print('Mean Squared Error:', metrics.mean_squared_error(y_test, y_pred)) \n",
    "    print(\" \")"
   ]
  }
 ],
 "metadata": {
  "kernelspec": {
   "display_name": "Python 3.8.5 64-bit",
   "language": "python",
   "name": "python3"
  },
  "language_info": {
   "codemirror_mode": {
    "name": "ipython",
    "version": 3
   },
   "file_extension": ".py",
   "mimetype": "text/x-python",
   "name": "python",
   "nbconvert_exporter": "python",
   "pygments_lexer": "ipython3",
   "version": "3.8.5"
  },
  "orig_nbformat": 4,
  "vscode": {
   "interpreter": {
    "hash": "aee8b7b246df8f9039afb4144a1f6fd8d2ca17a180786b69acc140d282b71a49"
   }
  }
 },
 "nbformat": 4,
 "nbformat_minor": 2
}
